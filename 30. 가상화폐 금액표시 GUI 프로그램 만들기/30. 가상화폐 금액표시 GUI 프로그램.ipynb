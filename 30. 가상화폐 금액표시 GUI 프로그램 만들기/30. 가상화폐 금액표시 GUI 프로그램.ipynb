{
 "cells": [
  {
   "cell_type": "code",
   "execution_count": 12,
   "id": "95f5c111",
   "metadata": {},
   "outputs": [
    {
     "name": "stdout",
     "output_type": "stream",
     "text": [
      "Requirement already satisfied: pyinstaller in /opt/anaconda3/lib/python3.9/site-packages (5.6.2)\n",
      "Requirement already satisfied: macholib>=1.8 in /opt/anaconda3/lib/python3.9/site-packages (from pyinstaller) (1.16.2)\n",
      "Requirement already satisfied: setuptools in /opt/anaconda3/lib/python3.9/site-packages (from pyinstaller) (63.4.1)\n",
      "Requirement already satisfied: pyinstaller-hooks-contrib>=2021.4 in /opt/anaconda3/lib/python3.9/site-packages (from pyinstaller) (2022.13)\n",
      "Requirement already satisfied: altgraph in /opt/anaconda3/lib/python3.9/site-packages (from pyinstaller) (0.17.3)\n"
     ]
    },
    {
     "name": "stderr",
     "output_type": "stream",
     "text": [
      "Exception in thread Thread-6:\n",
      "Traceback (most recent call last):\n",
      "  File \"/opt/anaconda3/lib/python3.9/site-packages/urllib3/connection.py\", line 174, in _new_conn\n",
      "    conn = connection.create_connection(\n",
      "  File \"/opt/anaconda3/lib/python3.9/site-packages/urllib3/util/connection.py\", line 72, in create_connection\n",
      "    for res in socket.getaddrinfo(host, port, family, socket.SOCK_STREAM):\n",
      "  File \"/opt/anaconda3/lib/python3.9/socket.py\", line 954, in getaddrinfo\n",
      "    for res in _socket.getaddrinfo(host, port, family, type, proto, flags):\n",
      "socket.gaierror: [Errno 8] nodename nor servname provided, or not known\n",
      "\n",
      "During handling of the above exception, another exception occurred:\n",
      "\n",
      "Traceback (most recent call last):\n",
      "  File \"/opt/anaconda3/lib/python3.9/site-packages/urllib3/connectionpool.py\", line 703, in urlopen\n",
      "    httplib_response = self._make_request(\n",
      "  File \"/opt/anaconda3/lib/python3.9/site-packages/urllib3/connectionpool.py\", line 386, in _make_request\n",
      "    self._validate_conn(conn)\n",
      "  File \"/opt/anaconda3/lib/python3.9/site-packages/urllib3/connectionpool.py\", line 1042, in _validate_conn\n",
      "    conn.connect()\n",
      "  File \"/opt/anaconda3/lib/python3.9/site-packages/urllib3/connection.py\", line 358, in connect\n",
      "    self.sock = conn = self._new_conn()\n",
      "  File \"/opt/anaconda3/lib/python3.9/site-packages/urllib3/connection.py\", line 186, in _new_conn\n",
      "    raise NewConnectionError(\n",
      "urllib3.exceptions.NewConnectionError: <urllib3.connection.HTTPSConnection object at 0x7fc1a1017130>: Failed to establish a new connection: [Errno 8] nodename nor servname provided, or not known\n",
      "\n",
      "During handling of the above exception, another exception occurred:\n",
      "\n",
      "Traceback (most recent call last):\n",
      "  File \"/opt/anaconda3/lib/python3.9/site-packages/requests/adapters.py\", line 489, in send\n",
      "    resp = conn.urlopen(\n",
      "  File \"/opt/anaconda3/lib/python3.9/site-packages/urllib3/connectionpool.py\", line 787, in urlopen\n",
      "    retries = retries.increment(\n",
      "  File \"/opt/anaconda3/lib/python3.9/site-packages/urllib3/util/retry.py\", line 592, in increment\n",
      "    raise MaxRetryError(_pool, url, error or ResponseError(cause))\n",
      "urllib3.exceptions.MaxRetryError: HTTPSConnectionPool(host='api.upbit.com', port=443): Max retries exceeded with url: /v1/ticker?markets=KRW-BTC (Caused by NewConnectionError('<urllib3.connection.HTTPSConnection object at 0x7fc1a1017130>: Failed to establish a new connection: [Errno 8] nodename nor servname provided, or not known'))\n",
      "\n",
      "During handling of the above exception, another exception occurred:\n",
      "\n",
      "Traceback (most recent call last):\n",
      "  File \"/opt/anaconda3/lib/python3.9/threading.py\", line 980, in _bootstrap_inner\n",
      "    self.run()\n",
      "  File \"/opt/anaconda3/lib/python3.9/threading.py\", line 917, in run\n",
      "    self._target(*self._args, **self._kwargs)\n",
      "  File \"/var/folders/wy/34j5dqtj7rq_z64p1mtz2f_w0000gn/T/ipykernel_7259/2516267901.py\", line 11, in get_coin_price\n",
      "  File \"/opt/anaconda3/lib/python3.9/site-packages/pyupbit/quotation_api.py\", line 248, in get_current_price\n",
      "    data, req_limit_info = _call_public_api(url, markets=ticker)\n",
      "  File \"/opt/anaconda3/lib/python3.9/site-packages/pyupbit/request_api.py\", line 64, in _call_public_api\n",
      "    resp = _call_get(url, params=params)\n",
      "  File \"/opt/anaconda3/lib/python3.9/site-packages/pyupbit/errors.py\", line 165, in wrapper\n",
      "    resp = func(*args, **kwargs)\n",
      "  File \"/opt/anaconda3/lib/python3.9/site-packages/pyupbit/request_api.py\", line 42, in _call_get\n",
      "    return requests.get(url, **kwargs)\n",
      "  File \"/opt/anaconda3/lib/python3.9/site-packages/requests/api.py\", line 73, in get\n",
      "    return request(\"get\", url, params=params, **kwargs)\n",
      "  File \"/opt/anaconda3/lib/python3.9/site-packages/requests/api.py\", line 59, in request\n",
      "    return session.request(method=method, url=url, **kwargs)\n",
      "  File \"/opt/anaconda3/lib/python3.9/site-packages/requests/sessions.py\", line 587, in request\n",
      "    resp = self.send(prep, **send_kwargs)\n",
      "  File \"/opt/anaconda3/lib/python3.9/site-packages/requests/sessions.py\", line 701, in send\n",
      "    r = adapter.send(request, **kwargs)\n",
      "  File \"/opt/anaconda3/lib/python3.9/site-packages/requests/adapters.py\", line 565, in send\n",
      "    raise ConnectionError(e, request=request)\n",
      "requests.exceptions.ConnectionError: HTTPSConnectionPool(host='api.upbit.com', port=443): Max retries exceeded with url: /v1/ticker?markets=KRW-BTC (Caused by NewConnectionError('<urllib3.connection.HTTPSConnection object at 0x7fc1a1017130>: Failed to establish a new connection: [Errno 8] nodename nor servname provided, or not known'))\n"
     ]
    }
   ],
   "source": [
    "!pip install pyinstaller"
   ]
  },
  {
   "cell_type": "code",
   "execution_count": 2,
   "id": "df8749c9",
   "metadata": {
    "collapsed": true
   },
   "outputs": [
    {
     "name": "stdout",
     "output_type": "stream",
     "text": [
      "Requirement already satisfied: pyupbit in /opt/anaconda3/lib/python3.9/site-packages (0.2.33)\n",
      "Requirement already satisfied: pandas in /opt/anaconda3/lib/python3.9/site-packages (from pyupbit) (1.4.4)\n",
      "Requirement already satisfied: pyjwt>=2.0.0 in /opt/anaconda3/lib/python3.9/site-packages (from pyupbit) (2.4.0)\n",
      "Requirement already satisfied: requests in /opt/anaconda3/lib/python3.9/site-packages (from pyupbit) (2.28.1)\n",
      "Requirement already satisfied: websockets in /opt/anaconda3/lib/python3.9/site-packages (from pyupbit) (10.4)\n",
      "Requirement already satisfied: python-dateutil>=2.8.1 in /opt/anaconda3/lib/python3.9/site-packages (from pandas->pyupbit) (2.8.2)\n",
      "Requirement already satisfied: pytz>=2020.1 in /opt/anaconda3/lib/python3.9/site-packages (from pandas->pyupbit) (2022.1)\n",
      "Requirement already satisfied: numpy>=1.18.5 in /opt/anaconda3/lib/python3.9/site-packages (from pandas->pyupbit) (1.21.5)\n",
      "Requirement already satisfied: certifi>=2017.4.17 in /opt/anaconda3/lib/python3.9/site-packages (from requests->pyupbit) (2022.9.24)\n",
      "Requirement already satisfied: charset-normalizer<3,>=2 in /opt/anaconda3/lib/python3.9/site-packages (from requests->pyupbit) (2.0.4)\n",
      "Requirement already satisfied: urllib3<1.27,>=1.21.1 in /opt/anaconda3/lib/python3.9/site-packages (from requests->pyupbit) (1.26.11)\n",
      "Requirement already satisfied: idna<4,>=2.5 in /opt/anaconda3/lib/python3.9/site-packages (from requests->pyupbit) (2.10)\n",
      "Requirement already satisfied: six>=1.5 in /opt/anaconda3/lib/python3.9/site-packages (from python-dateutil>=2.8.1->pandas->pyupbit) (1.16.0)\n"
     ]
    }
   ],
   "source": [
    "# 업비트에서 가상화폐 데이터를 조회할 수 있는 라이브러리\n",
    "!pip install pyupbit"
   ]
  },
  {
   "cell_type": "markdown",
   "id": "ba544243",
   "metadata": {},
   "source": [
    "#### tkinter를 사용하여 GUI코드 만들기"
   ]
  },
  {
   "cell_type": "code",
   "execution_count": 4,
   "id": "f3666609",
   "metadata": {},
   "outputs": [],
   "source": [
    "import tkinter\n",
    "\n",
    "window = tkinter.Tk() # window 객체 생성\n",
    "window.title(\"가상화폐 금액표시\")\n",
    "window.geometry(\"400x200\") # GUI 사이즈 설정\n",
    "window.resizable(False, False) # 가로세로 크기 조절 못하도록 설정\n",
    "\n",
    "label = tkinter.Label(window, text=\"hello\")\n",
    "label.pack()\n",
    "\n",
    "window.mainloop() # GUI를 계속 실행하기 위해 mainloop 실행"
   ]
  },
  {
   "cell_type": "markdown",
   "id": "abfd0491",
   "metadata": {},
   "source": [
    "#### 글자 크기를 키우는 코드"
   ]
  },
  {
   "cell_type": "code",
   "execution_count": 5,
   "id": "5cd63df4",
   "metadata": {},
   "outputs": [],
   "source": [
    "import tkinter\n",
    "import tkinter.font # 폰트 라이브러리\n",
    "\n",
    "window = tkinter.Tk() # window 객체 생성\n",
    "window.title(\"가상화폐 금액표시\")\n",
    "window.geometry(\"400x200\") # GUI 사이즈 설정\n",
    "window.resizable(False, False) # 가로세로 크기 조절 못하도록 설정\n",
    "\n",
    "font = tkinter.font.Font(size=30) # 폰트 적용\n",
    "label = tkinter.Label(window, text='hello', font=font)\n",
    "label.pack()\n",
    "\n",
    "window.mainloop()"
   ]
  },
  {
   "cell_type": "markdown",
   "id": "b43b820b",
   "metadata": {},
   "source": [
    "#### 1초마다 반복해서 동작하는 코드"
   ]
  },
  {
   "cell_type": "code",
   "execution_count": 6,
   "id": "ab0826ea",
   "metadata": {},
   "outputs": [],
   "source": [
    "import tkinter\n",
    "import tkinter.font # 폰트 라이브러리\n",
    "\n",
    "window = tkinter.Tk() # window 객체 생성\n",
    "window.title(\"가상화폐 금액표시\")\n",
    "window.geometry(\"400x200\") # GUI 사이즈 설정\n",
    "window.resizable(False, False) # 가로세로 크기 조절 못하도록 설정\n",
    "\n",
    "font = tkinter.font.Font(size=30) # 폰트 적용\n",
    "label = tkinter.Label(window, text='hello', font=font)\n",
    "label.pack()\n",
    "\n",
    "cnt = 0\n",
    "def get_coin_1sec(): # 1초마다 실행되는 함수\n",
    "    global cnt\n",
    "    now_btc_price = str(cnt)\n",
    "    cnt += 1\n",
    "    label.config(text=now_btc_price) # 라벨의 text 변경\n",
    "    window.after(1000,get_coin_1sec) # 1초뒤 함수 불러오기\n",
    "    \n",
    "get_coin_1sec()\n",
    "window.mainloop()"
   ]
  },
  {
   "cell_type": "markdown",
   "id": "5d1ca0fd",
   "metadata": {},
   "source": [
    "#### 1초마다 반복해서 동작하는 GUI코드 만들기"
   ]
  },
  {
   "cell_type": "code",
   "execution_count": 11,
   "id": "4997d28f",
   "metadata": {},
   "outputs": [
    {
     "name": "stderr",
     "output_type": "stream",
     "text": [
      "Exception in thread Thread-7:\n",
      "Traceback (most recent call last):\n",
      "  File \"/opt/anaconda3/lib/python3.9/site-packages/urllib3/connection.py\", line 174, in _new_conn\n",
      "    conn = connection.create_connection(\n",
      "  File \"/opt/anaconda3/lib/python3.9/site-packages/urllib3/util/connection.py\", line 72, in create_connection\n",
      "    for res in socket.getaddrinfo(host, port, family, socket.SOCK_STREAM):\n",
      "  File \"/opt/anaconda3/lib/python3.9/socket.py\", line 954, in getaddrinfo\n",
      "    for res in _socket.getaddrinfo(host, port, family, type, proto, flags):\n",
      "socket.gaierror: [Errno 8] nodename nor servname provided, or not known\n",
      "\n",
      "During handling of the above exception, another exception occurred:\n",
      "\n",
      "Traceback (most recent call last):\n",
      "  File \"/opt/anaconda3/lib/python3.9/site-packages/urllib3/connectionpool.py\", line 703, in urlopen\n",
      "    httplib_response = self._make_request(\n",
      "  File \"/opt/anaconda3/lib/python3.9/site-packages/urllib3/connectionpool.py\", line 386, in _make_request\n",
      "    self._validate_conn(conn)\n",
      "  File \"/opt/anaconda3/lib/python3.9/site-packages/urllib3/connectionpool.py\", line 1042, in _validate_conn\n",
      "    conn.connect()\n",
      "  File \"/opt/anaconda3/lib/python3.9/site-packages/urllib3/connection.py\", line 358, in connect\n",
      "    self.sock = conn = self._new_conn()\n",
      "  File \"/opt/anaconda3/lib/python3.9/site-packages/urllib3/connection.py\", line 186, in _new_conn\n",
      "    raise NewConnectionError(\n",
      "urllib3.exceptions.NewConnectionError: <urllib3.connection.HTTPSConnection object at 0x7fc1a101a760>: Failed to establish a new connection: [Errno 8] nodename nor servname provided, or not known\n",
      "\n",
      "During handling of the above exception, another exception occurred:\n",
      "\n",
      "Traceback (most recent call last):\n",
      "  File \"/opt/anaconda3/lib/python3.9/site-packages/requests/adapters.py\", line 489, in send\n",
      "    resp = conn.urlopen(\n",
      "  File \"/opt/anaconda3/lib/python3.9/site-packages/urllib3/connectionpool.py\", line 787, in urlopen\n",
      "    retries = retries.increment(\n",
      "  File \"/opt/anaconda3/lib/python3.9/site-packages/urllib3/util/retry.py\", line 592, in increment\n",
      "    raise MaxRetryError(_pool, url, error or ResponseError(cause))\n",
      "urllib3.exceptions.MaxRetryError: HTTPSConnectionPool(host='api.upbit.com', port=443): Max retries exceeded with url: /v1/ticker?markets=KRW-BTC (Caused by NewConnectionError('<urllib3.connection.HTTPSConnection object at 0x7fc1a101a760>: Failed to establish a new connection: [Errno 8] nodename nor servname provided, or not known'))\n",
      "\n",
      "During handling of the above exception, another exception occurred:\n",
      "\n",
      "Traceback (most recent call last):\n",
      "  File \"/opt/anaconda3/lib/python3.9/threading.py\", line 980, in _bootstrap_inner\n",
      "    self.run()\n",
      "  File \"/opt/anaconda3/lib/python3.9/threading.py\", line 917, in run\n",
      "    self._target(*self._args, **self._kwargs)\n",
      "  File \"/var/folders/wy/34j5dqtj7rq_z64p1mtz2f_w0000gn/T/ipykernel_7259/3232330910.py\", line 11, in get_coin_price\n",
      "  File \"/opt/anaconda3/lib/python3.9/site-packages/pyupbit/quotation_api.py\", line 248, in get_current_price\n",
      "    data, req_limit_info = _call_public_api(url, markets=ticker)\n",
      "  File \"/opt/anaconda3/lib/python3.9/site-packages/pyupbit/request_api.py\", line 64, in _call_public_api\n",
      "    resp = _call_get(url, params=params)\n",
      "  File \"/opt/anaconda3/lib/python3.9/site-packages/pyupbit/errors.py\", line 165, in wrapper\n",
      "    resp = func(*args, **kwargs)\n",
      "  File \"/opt/anaconda3/lib/python3.9/site-packages/pyupbit/request_api.py\", line 42, in _call_get\n",
      "    return requests.get(url, **kwargs)\n",
      "  File \"/opt/anaconda3/lib/python3.9/site-packages/requests/api.py\", line 73, in get\n",
      "    return request(\"get\", url, params=params, **kwargs)\n",
      "  File \"/opt/anaconda3/lib/python3.9/site-packages/requests/api.py\", line 59, in request\n",
      "    return session.request(method=method, url=url, **kwargs)\n",
      "  File \"/opt/anaconda3/lib/python3.9/site-packages/requests/sessions.py\", line 587, in request\n",
      "    resp = self.send(prep, **send_kwargs)\n",
      "  File \"/opt/anaconda3/lib/python3.9/site-packages/requests/sessions.py\", line 701, in send\n",
      "    r = adapter.send(request, **kwargs)\n",
      "  File \"/opt/anaconda3/lib/python3.9/site-packages/requests/adapters.py\", line 565, in send\n",
      "    raise ConnectionError(e, request=request)\n",
      "requests.exceptions.ConnectionError: HTTPSConnectionPool(host='api.upbit.com', port=443): Max retries exceeded with url: /v1/ticker?markets=KRW-BTC (Caused by NewConnectionError('<urllib3.connection.HTTPSConnection object at 0x7fc1a101a760>: Failed to establish a new connection: [Errno 8] nodename nor servname provided, or not known'))\n"
     ]
    },
    {
     "ename": "KeyboardInterrupt",
     "evalue": "",
     "output_type": "error",
     "traceback": [
      "\u001b[0;31m---------------------------------------------------------------------------\u001b[0m",
      "\u001b[0;31mKeyboardInterrupt\u001b[0m                         Traceback (most recent call last)",
      "\u001b[0;32m/var/folders/wy/34j5dqtj7rq_z64p1mtz2f_w0000gn/T/ipykernel_7259/1768090898.py\u001b[0m in \u001b[0;36m<module>\u001b[0;34m\u001b[0m\n\u001b[1;32m     29\u001b[0m \u001b[0;34m\u001b[0m\u001b[0m\n\u001b[1;32m     30\u001b[0m \u001b[0mget_coin_1sec\u001b[0m\u001b[0;34m(\u001b[0m\u001b[0;34m)\u001b[0m\u001b[0;34m\u001b[0m\u001b[0;34m\u001b[0m\u001b[0m\n\u001b[0;32m---> 31\u001b[0;31m \u001b[0mwindow\u001b[0m\u001b[0;34m.\u001b[0m\u001b[0mmainloop\u001b[0m\u001b[0;34m(\u001b[0m\u001b[0;34m)\u001b[0m\u001b[0;34m\u001b[0m\u001b[0;34m\u001b[0m\u001b[0m\n\u001b[0m",
      "\u001b[0;32m/opt/anaconda3/lib/python3.9/tkinter/__init__.py\u001b[0m in \u001b[0;36mmainloop\u001b[0;34m(self, n)\u001b[0m\n\u001b[1;32m   1427\u001b[0m     \u001b[0;32mdef\u001b[0m \u001b[0mmainloop\u001b[0m\u001b[0;34m(\u001b[0m\u001b[0mself\u001b[0m\u001b[0;34m,\u001b[0m \u001b[0mn\u001b[0m\u001b[0;34m=\u001b[0m\u001b[0;36m0\u001b[0m\u001b[0;34m)\u001b[0m\u001b[0;34m:\u001b[0m\u001b[0;34m\u001b[0m\u001b[0;34m\u001b[0m\u001b[0m\n\u001b[1;32m   1428\u001b[0m         \u001b[0;34m\"\"\"Call the mainloop of Tk.\"\"\"\u001b[0m\u001b[0;34m\u001b[0m\u001b[0;34m\u001b[0m\u001b[0m\n\u001b[0;32m-> 1429\u001b[0;31m         \u001b[0mself\u001b[0m\u001b[0;34m.\u001b[0m\u001b[0mtk\u001b[0m\u001b[0;34m.\u001b[0m\u001b[0mmainloop\u001b[0m\u001b[0;34m(\u001b[0m\u001b[0mn\u001b[0m\u001b[0;34m)\u001b[0m\u001b[0;34m\u001b[0m\u001b[0;34m\u001b[0m\u001b[0m\n\u001b[0m\u001b[1;32m   1430\u001b[0m \u001b[0;34m\u001b[0m\u001b[0m\n\u001b[1;32m   1431\u001b[0m     \u001b[0;32mdef\u001b[0m \u001b[0mquit\u001b[0m\u001b[0;34m(\u001b[0m\u001b[0mself\u001b[0m\u001b[0;34m)\u001b[0m\u001b[0;34m:\u001b[0m\u001b[0;34m\u001b[0m\u001b[0;34m\u001b[0m\u001b[0m\n",
      "\u001b[0;31mKeyboardInterrupt\u001b[0m: "
     ]
    }
   ],
   "source": [
    "import tkinter\n",
    "import tkinter.font # 폰트 라이브러리\n",
    "import pyupbit\n",
    "import threading\n",
    "import time\n",
    "\n",
    "coin_price = 0\n",
    "def get_coin_price():\n",
    "    global coin_price\n",
    "    while True:\n",
    "        coin_price = pyupbit.get_current_price(\"KRW-BTC\")\n",
    "        time.sleep(1)\n",
    "        \n",
    "t1 = threading.Thread(target=get_coin_price)\n",
    "t1.daemon = True\n",
    "t1.start()\n",
    "window = tkinter.Tk() # window 객체 생성\n",
    "window.title(\"비트코인 실시간 가격\")\n",
    "window.geometry(\"400x50\") # GUI 사이즈 설정\n",
    "window.resizable(False, False) # 가로세로 크기 조절 못하도록 설정\n",
    "font = tkinter.font.Font(size=30) # 폰트 적용\n",
    "label = tkinter.Label(window, text='hello', font=font)\n",
    "label.pack()\n",
    "def get_coin_1sec(): # 1초마다 GUI에 표시\n",
    "    global coin_price\n",
    "    now_btc_price = str(coin_price)\n",
    "    label.config(text=now_btc_price) # 라벨의 text 변경\n",
    "    window.after(1000,get_coin_1sec) # 1초뒤 함수 불러오기\n",
    "    \n",
    "get_coin_1sec()\n",
    "window.mainloop()"
   ]
  }
 ],
 "metadata": {
  "kernelspec": {
   "display_name": "Python 3 (ipykernel)",
   "language": "python",
   "name": "python3"
  },
  "language_info": {
   "codemirror_mode": {
    "name": "ipython",
    "version": 3
   },
   "file_extension": ".py",
   "mimetype": "text/x-python",
   "name": "python",
   "nbconvert_exporter": "python",
   "pygments_lexer": "ipython3",
   "version": "3.9.13"
  }
 },
 "nbformat": 4,
 "nbformat_minor": 5
}
