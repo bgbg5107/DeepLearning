{
 "cells": [
  {
   "cell_type": "markdown",
   "id": "098cc91f",
   "metadata": {},
   "source": [
    "!pip install currencyconverter\n",
    "환율 계산하기 위한 라이브러리"
   ]
  },
  {
   "cell_type": "code",
   "execution_count": 1,
   "id": "c07f4cae",
   "metadata": {},
   "outputs": [],
   "source": [
    "from currency_converter import CurrencyConverter"
   ]
  },
  {
   "cell_type": "code",
   "execution_count": 2,
   "id": "f6891cd6",
   "metadata": {},
   "outputs": [
    {
     "name": "stdout",
     "output_type": "stream",
     "text": [
      "{'AUD', 'PLN', 'EEK', 'SGD', 'ILS', 'ROL', 'CZK', 'SIT', 'NOK', 'BRL', 'BGN', 'LVL', 'CHF', 'CYP', 'KRW', 'HUF', 'LTL', 'PHP', 'JPY', 'MTL', 'SKK', 'ZAR', 'ISK', 'INR', 'NZD', 'EUR', 'MYR', 'DKK', 'CAD', 'MXN', 'THB', 'HKD', 'CNY', 'SEK', 'GBP', 'TRL', 'USD', 'RON', 'RUB', 'IDR', 'TRY', 'HRK'}\n"
     ]
    }
   ],
   "source": [
    "cc= CurrencyConverter() # 환율 계산을 위한 모델 생성\n",
    "print(cc.currencies) # 생성한 모델의 각 나라의 화폐단위"
   ]
  },
  {
   "cell_type": "markdown",
   "id": "04e0e6aa",
   "metadata": {},
   "source": [
    "최신 환율 정보 업데이트"
   ]
  },
  {
   "cell_type": "code",
   "execution_count": 3,
   "id": "3959c7bb",
   "metadata": {},
   "outputs": [
    {
     "name": "stdout",
     "output_type": "stream",
     "text": [
      "1412.1142052880266\n"
     ]
    }
   ],
   "source": [
    "cc = CurrencyConverter('http://www.ecb.europa.eu/stats/eurofxref/eurofxref.zip')\n",
    "# 현재 환율 정보를 얻기 위해(단 최신이 아니기에 정보 값이 변할 수 있음.)\n",
    "print(cc.convert(1,'USD','KRW'))\n",
    "# 1달러을 원화로"
   ]
  },
  {
   "cell_type": "code",
   "execution_count": 4,
   "id": "8fb3bb9f",
   "metadata": {},
   "outputs": [],
   "source": [
    "# HTTP 통신이 필요한 프로그램을 작성할 때 가장 많이 사용되는 라이브러리\n",
    "import requests\n",
    "# 잘못된 HTML을 수정하여 쉽게 탐색할 수 있는 XML 형식의 파이썬 객체로 변환하는 라이브러리\n",
    "from bs4 import BeautifulSoup"
   ]
  },
  {
   "cell_type": "code",
   "execution_count": 5,
   "id": "b80fc59f",
   "metadata": {},
   "outputs": [],
   "source": [
    "# 달러의 환율을 알기 위해 타켓을 2개로 나눔 \n",
    "def get_exchange_rate(target1, target2): \n",
    "    headers= {\n",
    "        'User-Agent': 'Mozilla/5.0',\n",
    "        'Content-Type': 'text/html; charset=utf-8'}\n",
    "    # 크롤링을 하기 위해 사이트의 접속을 하는데 필요한 정보들\n",
    "    \n",
    "    response= requests.get('https://kr.investing.com/currencies/{}-{}'.format\n",
    "                          (target1, target2), headers= headers)\n",
    "    # 사이트에서 크롤링을 하기 위한 정보 입력 \n",
    "    content= BeautifulSoup(response.content, 'html.parser')\n",
    "    containers= content.find('span',{'data-test': 'instrument-price-last'})\n",
    "    # 크롤링 데이터 찾기\n",
    "    \n",
    "get_exchange_rate('usd','krw') # 타켓값 입력하여 환율 정보 추출"
   ]
  },
  {
   "cell_type": "code",
   "execution_count": null,
   "id": "0e9f01cb",
   "metadata": {},
   "outputs": [],
   "source": []
  }
 ],
 "metadata": {
  "hide_input": false,
  "kernelspec": {
   "display_name": "Python 3 (ipykernel)",
   "language": "python",
   "name": "python3"
  },
  "language_info": {
   "codemirror_mode": {
    "name": "ipython",
    "version": 3
   },
   "file_extension": ".py",
   "mimetype": "text/x-python",
   "name": "python",
   "nbconvert_exporter": "python",
   "pygments_lexer": "ipython3",
   "version": "3.9.12"
  }
 },
 "nbformat": 4,
 "nbformat_minor": 5
}
