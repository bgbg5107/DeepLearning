{
 "cells": [
  {
   "cell_type": "code",
   "execution_count": 1,
   "id": "0c0f466b",
   "metadata": {
    "collapsed": true
   },
   "outputs": [
    {
     "name": "stdout",
     "output_type": "stream",
     "text": [
      "Collecting torch==1.9.0\n",
      "  Downloading torch-1.9.0-cp39-none-macosx_10_9_x86_64.whl (127.9 MB)\n",
      "\u001b[2K     \u001b[90m━━━━━━━━━━━━━━━━━━━━━━━━━━━━━━━━━━━━━━\u001b[0m \u001b[32m127.9/127.9 MB\u001b[0m \u001b[31m27.0 MB/s\u001b[0m eta \u001b[36m0:00:00\u001b[0m00:01\u001b[0m00:01\u001b[0m\n",
      "\u001b[?25hRequirement already satisfied: typing-extensions in /opt/anaconda3/lib/python3.9/site-packages (from torch==1.9.0) (4.3.0)\n",
      "Installing collected packages: torch\n",
      "Successfully installed torch-1.9.0\n",
      "Note: you may need to restart the kernel to use updated packages.\n"
     ]
    }
   ],
   "source": [
    "pip install torch==1.9.0"
   ]
  },
  {
   "cell_type": "code",
   "execution_count": 2,
   "id": "9480c2eb",
   "metadata": {
    "collapsed": true
   },
   "outputs": [
    {
     "name": "stdout",
     "output_type": "stream",
     "text": [
      "Collecting torchvision==0.10.0\n",
      "  Downloading torchvision-0.10.0-cp39-cp39-macosx_10_9_x86_64.whl (13.8 MB)\n",
      "\u001b[2K     \u001b[90m━━━━━━━━━━━━━━━━━━━━━━━━━━━━━━━━━━━━━━━━\u001b[0m \u001b[32m13.8/13.8 MB\u001b[0m \u001b[31m40.8 MB/s\u001b[0m eta \u001b[36m0:00:00\u001b[0m00:01\u001b[0m00:01\u001b[0m\n",
      "\u001b[?25hRequirement already satisfied: numpy in /opt/anaconda3/lib/python3.9/site-packages (from torchvision==0.10.0) (1.21.5)\n",
      "Requirement already satisfied: pillow>=5.3.0 in /opt/anaconda3/lib/python3.9/site-packages (from torchvision==0.10.0) (9.2.0)\n",
      "Requirement already satisfied: torch==1.9.0 in /opt/anaconda3/lib/python3.9/site-packages (from torchvision==0.10.0) (1.9.0)\n",
      "Requirement already satisfied: typing-extensions in /opt/anaconda3/lib/python3.9/site-packages (from torch==1.9.0->torchvision==0.10.0) (4.3.0)\n",
      "Installing collected packages: torchvision\n",
      "Successfully installed torchvision-0.10.0\n",
      "Note: you may need to restart the kernel to use updated packages.\n"
     ]
    }
   ],
   "source": [
    "# 파이토치의 이미지 인식을 위해 사용\n",
    "pip install torchvision==0.10.0"
   ]
  },
  {
   "cell_type": "markdown",
   "id": "8f40dfad",
   "metadata": {},
   "source": []
  },
  {
   "cell_type": "code",
   "execution_count": 10,
   "id": "0ad06392",
   "metadata": {},
   "outputs": [
    {
     "name": "stdout",
     "output_type": "stream",
     "text": [
      "['40.사람인식/원본이미지/인물3.JPG', '40.사람인식/원본이미지/인물2.JPG', '40.사람인식/원본이미지/인물5.JPG', '40.사람인식/원본이미지/인물4.JPG', '40.사람인식/원본이미지/인물6.JPG', '40.사람인식/원본이미지/풍경2.JPG', '40.사람인식/원본이미지/풍경3.JPG', '40.사람인식/원본이미지/풍경1.JPG']\n"
     ]
    }
   ],
   "source": [
    "from glob import glob # 파일들의 리스트를 뽑을 때 사용\n",
    "\n",
    "img_path = '40.사람인식/원본이미지'\n",
    "img_list = glob(img_path + '/*.JPG') # 원본이미지에서 jpg파일을 찾아서 파일의 경로를 리스트형태로 반환\n",
    "\n",
    "print(img_list)"
   ]
  },
  {
   "cell_type": "code",
   "execution_count": 17,
   "id": "f7f69fcc",
   "metadata": {
    "collapsed": true
   },
   "outputs": [
    {
     "name": "stderr",
     "output_type": "stream",
     "text": [
      "Using cache found in /Users/jiyoung/.cache/torch/hub/ultralytics_yolov5_master\n",
      "YOLOv5 🚀 2022-11-12 Python-3.9.13 torch-1.9.0 CPU\n",
      "\n",
      "Fusing layers... \n",
      "YOLOv5s summary: 213 layers, 7225885 parameters, 0 gradients\n",
      "Adding AutoShape... \n"
     ]
    },
    {
     "name": "stdout",
     "output_type": "stream",
     "text": [
      "['40.사람인식/원본이미지/인물3.JPG', '40.사람인식/원본이미지/인물2.JPG', '40.사람인식/원본이미지/인물5.JPG', '40.사람인식/원본이미지/인물4.JPG', '40.사람인식/원본이미지/인물6.JPG', '40.사람인식/원본이미지/풍경2.JPG', '40.사람인식/원본이미지/풍경3.JPG', '40.사람인식/원본이미지/풍경1.JPG']\n"
     ]
    },
    {
     "name": "stderr",
     "output_type": "stream",
     "text": [
      "Saved 1 image to \u001b[1mruns/detect/exp9\u001b[0m\n"
     ]
    },
    {
     "name": "stdout",
     "output_type": "stream",
     "text": [
      "40.사람인식/원본이미지/인물3.JPG\n",
      "person\n",
      "handbag\n"
     ]
    },
    {
     "name": "stderr",
     "output_type": "stream",
     "text": [
      "Saved 1 image to \u001b[1mruns/detect/exp10\u001b[0m\n"
     ]
    },
    {
     "name": "stdout",
     "output_type": "stream",
     "text": [
      "40.사람인식/원본이미지/인물2.JPG\n",
      "person\n",
      "person\n",
      "handbag\n",
      "cell phone\n",
      "40.사람인식/원본이미지/인물5.JPG\n"
     ]
    },
    {
     "name": "stderr",
     "output_type": "stream",
     "text": [
      "Saved 1 image to \u001b[1mruns/detect/exp11\u001b[0m\n"
     ]
    },
    {
     "name": "stdout",
     "output_type": "stream",
     "text": [
      "person\n",
      "person\n",
      "person\n",
      "person\n",
      "bottle\n",
      "person\n",
      "bottle\n",
      "refrigerator\n",
      "person\n",
      "person\n",
      "person\n",
      "40.사람인식/원본이미지/인물4.JPG\n"
     ]
    },
    {
     "name": "stderr",
     "output_type": "stream",
     "text": [
      "Saved 1 image to \u001b[1mruns/detect/exp12\u001b[0m\n"
     ]
    },
    {
     "name": "stdout",
     "output_type": "stream",
     "text": [
      "person\n"
     ]
    },
    {
     "name": "stderr",
     "output_type": "stream",
     "text": [
      "Saved 1 image to \u001b[1mruns/detect/exp13\u001b[0m\n"
     ]
    },
    {
     "name": "stdout",
     "output_type": "stream",
     "text": [
      "40.사람인식/원본이미지/인물6.JPG\n",
      "person\n"
     ]
    },
    {
     "name": "stderr",
     "output_type": "stream",
     "text": [
      "Saved 1 image to \u001b[1mruns/detect/exp14\u001b[0m\n"
     ]
    },
    {
     "name": "stdout",
     "output_type": "stream",
     "text": [
      "40.사람인식/원본이미지/풍경2.JPG\n",
      "sports ball\n"
     ]
    },
    {
     "name": "stderr",
     "output_type": "stream",
     "text": [
      "Saved 1 image to \u001b[1mruns/detect/exp15\u001b[0m\n"
     ]
    },
    {
     "name": "stdout",
     "output_type": "stream",
     "text": [
      "40.사람인식/원본이미지/풍경3.JPG\n"
     ]
    },
    {
     "name": "stderr",
     "output_type": "stream",
     "text": [
      "Saved 1 image to \u001b[1mruns/detect/exp16\u001b[0m\n"
     ]
    },
    {
     "name": "stdout",
     "output_type": "stream",
     "text": [
      "40.사람인식/원본이미지/풍경1.JPG\n",
      "boat\n"
     ]
    }
   ],
   "source": [
    "import torch\n",
    "from glob import glob\n",
    "\n",
    "img_path = '40.사람인식/원본이미지'\n",
    "img_list = glob(img_path + '/*.JPG')\n",
    "\n",
    "print(img_list)\n",
    "\n",
    "model = torch.hub.load('ultralytics/yolov5','yolov5s') # YOLOv5 깃허브 저장소에서 모델을 로드\n",
    "\n",
    "for img_path in img_list:\n",
    "    results = model(img_path)\n",
    "    print(img_path)\n",
    "    results.save('40.사람인식/이미지확인용')\n",
    "    for pred in results.pred[0]:\n",
    "        tag = results.names[int(pred[-1])]\n",
    "        print(tag)"
   ]
  },
  {
   "cell_type": "code",
   "execution_count": 29,
   "id": "b71eca9d",
   "metadata": {
    "collapsed": true
   },
   "outputs": [
    {
     "name": "stderr",
     "output_type": "stream",
     "text": [
      "Using cache found in /Users/jiyoung/.cache/torch/hub/ultralytics_yolov5_master\n",
      "YOLOv5 🚀 2022-11-12 Python-3.9.13 torch-1.9.0 CPU\n",
      "\n",
      "Fusing layers... \n",
      "YOLOv5s summary: 213 layers, 7225885 parameters, 0 gradients\n",
      "Adding AutoShape... \n"
     ]
    },
    {
     "name": "stdout",
     "output_type": "stream",
     "text": [
      "['40.사람인식/원본이미지/인물3.JPG', '40.사람인식/원본이미지/인물2.JPG', '40.사람인식/원본이미지/인물5.JPG', '40.사람인식/원본이미지/인물4.JPG', '40.사람인식/원본이미지/인물6.JPG', '40.사람인식/원본이미지/풍경2.JPG', '40.사람인식/원본이미지/풍경3.JPG', '40.사람인식/원본이미지/풍경1.JPG']\n",
      "40.사람인식/원본이미지/인물3.JPG\n",
      "person\n",
      "move\n",
      "40.사람인식/원본이미지/인물2.JPG\n",
      "person\n",
      "move\n",
      "40.사람인식/원본이미지/인물5.JPG\n",
      "person\n",
      "move\n",
      "40.사람인식/원본이미지/인물4.JPG\n",
      "person\n",
      "move\n",
      "40.사람인식/원본이미지/인물6.JPG\n",
      "person\n",
      "move\n",
      "40.사람인식/원본이미지/풍경2.JPG\n",
      "sports ball\n",
      "40.사람인식/원본이미지/풍경3.JPG\n",
      "40.사람인식/원본이미지/풍경1.JPG\n",
      "boat\n"
     ]
    }
   ],
   "source": [
    "import torch\n",
    "from glob import glob\n",
    "import shutil  # 파일 이동을 위한 라이브러리\n",
    "import os\n",
    "\n",
    "img_path = '40.사람인식/원본이미지'\n",
    "\n",
    "img_list = glob(img_path + '/*.JPG')\n",
    "\n",
    "print(img_list)\n",
    "\n",
    "model = torch.hub.load('ultralytics/yolov5','yolov5s')\n",
    "img_move_path = '40.사람인식/사람만분류'\n",
    "\n",
    "for img_path in img_list:\n",
    "    results = model(img_path)\n",
    "    print(img_path)\n",
    "    for pred in results.pred[0]:\n",
    "        tag = results.names[int(pred[-1])]\n",
    "        print(tag)\n",
    "        if tag == \"person\":\n",
    "            print(\"move\")\n",
    "            shutil.move(img_path, img_move_path + '//' + os.path.basename(img_path))\n",
    "            break"
   ]
  }
 ],
 "metadata": {
  "kernelspec": {
   "display_name": "Python 3 (ipykernel)",
   "language": "python",
   "name": "python3"
  },
  "language_info": {
   "codemirror_mode": {
    "name": "ipython",
    "version": 3
   },
   "file_extension": ".py",
   "mimetype": "text/x-python",
   "name": "python",
   "nbconvert_exporter": "python",
   "pygments_lexer": "ipython3",
   "version": "3.9.13"
  }
 },
 "nbformat": 4,
 "nbformat_minor": 5
}
