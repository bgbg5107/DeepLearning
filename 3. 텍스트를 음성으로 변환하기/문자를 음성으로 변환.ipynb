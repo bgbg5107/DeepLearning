{
 "cells": [
  {
   "cell_type": "markdown",
   "id": "7cf1a9d9",
   "metadata": {},
   "source": [
    "!pip install gtts\n",
    "!pip install playsound"
   ]
  },
  {
   "cell_type": "code",
   "execution_count": null,
   "id": "5316147a",
   "metadata": {},
   "outputs": [],
   "source": [
    "# 파일을 복사하거나 디렉터리를 생성하고 \n",
    "# 특정 디렉터리 내의 파일 목록을 구하고자 할 때 사용하는 라이브러리\n",
    "import os \n",
    "from gtts import gTTS # 문자를 음성으로 변환해주는 라이브러리\n",
    "from playsound import playsound # 파이썬에서 mp3를 재생하기 위한 라이브러리 "
   ]
  },
  {
   "cell_type": "markdown",
   "id": "9f359e26",
   "metadata": {},
   "source": [
    "문자를 음성으로 변환하기 위해 변환할 문자(text)와 변환된 음성파일 생성"
   ]
  },
  {
   "cell_type": "code",
   "execution_count": null,
   "id": "612f8e36",
   "metadata": {},
   "outputs": [],
   "source": [
    "text= 'User is away. Please contact me again in 30 minutes.' # 변환하고자 하는 text\n",
    "\n",
    "tts= gTTS(text= text, lang= 'ko') # 변환하고자 하는 text와 그 text의 언어\n",
    "\n",
    "tts.save(r'C:\\Users\\user\\Desktop\\음성변환\\test.mp3') # 변환된 음성파일 저장경로"
   ]
  },
  {
   "cell_type": "markdown",
   "id": "33b348dc",
   "metadata": {},
   "source": [
    "음성으로 변환하고자 하는 문자를 text파일을 만들고 그 파일을 열어 파일안의 문자열을 읽고 음성파일로 저장"
   ]
  },
  {
   "cell_type": "code",
   "execution_count": null,
   "id": "d8eaff78",
   "metadata": {},
   "outputs": [],
   "source": [
    "# 특정 파일의 경로를 읽어 그 파일이 있는 디렉토리로 경로를 지정.\n",
    "os.chdir(os.path.dirname(os.path.abspath('test.mp3')))\n",
    "\n",
    "file_path= 'Auto-answer.txt' # text 저장 경로\n",
    "with open(file_path, 'rt', encoding= 'utf-8') as f: \n",
    "    # file_path를 열고 'rt'= read-text로 읽는데 \n",
    "    # 이때 저장된 데이터가 한글이기에 인코딩.\n",
    "    read_file= f.read()\n",
    "\n",
    "tts= gTTS(text= read_file, lang= 'ko') \n",
    "# 변환하고자 하는 text와 그 text의 언어\n",
    "\n",
    "tts.save(r'C:\\Users\\user\\Desktop\\음성변환\\Auto-answer.mp3')\n",
    "# 변환된 음성파일 저장하고자 하는 경로\n",
    "\n",
    "playsound('./Auto-answer.mp3')\n",
    "#변환된 음성파일 재생."
   ]
  }
 ],
 "metadata": {
  "hide_input": false,
  "kernelspec": {
   "display_name": "Python 3 (ipykernel)",
   "language": "python",
   "name": "python3"
  },
  "language_info": {
   "codemirror_mode": {
    "name": "ipython",
    "version": 3
   },
   "file_extension": ".py",
   "mimetype": "text/x-python",
   "name": "python",
   "nbconvert_exporter": "python",
   "pygments_lexer": "ipython3",
   "version": "3.9.12"
  }
 },
 "nbformat": 4,
 "nbformat_minor": 5
}
