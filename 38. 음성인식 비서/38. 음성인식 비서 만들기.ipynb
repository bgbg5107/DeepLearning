{
 "cells": [
  {
   "cell_type": "code",
   "execution_count": null,
   "id": "4019a5a1",
   "metadata": {},
   "outputs": [],
   "source": [
    "# 음성을 텍스트로 변화해주는 라이브러리\n",
    "!pip install SpeechRecognition"
   ]
  },
  {
   "cell_type": "code",
   "execution_count": null,
   "id": "1e2ec2db",
   "metadata": {},
   "outputs": [],
   "source": [
    "# 오디오를 입력받을 때 쓰는 라이브러리\n",
    "!conda install pyaudio -y"
   ]
  },
  {
   "cell_type": "code",
   "execution_count": null,
   "id": "1832d267",
   "metadata": {},
   "outputs": [],
   "source": [
    "# 음악파일을 파이썬에서 재생하기 위한 라이브러리\n",
    "!pip install playsound"
   ]
  },
  {
   "cell_type": "code",
   "execution_count": null,
   "id": "a3a3dff2",
   "metadata": {},
   "outputs": [],
   "source": [
    "pip install pyaudio"
   ]
  },
  {
   "cell_type": "markdown",
   "id": "ab3edd62",
   "metadata": {},
   "source": [
    "### 1. 음성을 녹음하는 코드 만들기\n",
    "- 마이크가 정상적으로 작동되는지 확인, 녹음후 바로 재생됨"
   ]
  },
  {
   "cell_type": "code",
   "execution_count": 1,
   "id": "5c7cdc57",
   "metadata": {},
   "outputs": [
    {
     "name": "stdout",
     "output_type": "stream",
     "text": [
      "음성녹음을 시작합니다\n",
      "음성녹음을 완료하였습니다\n",
      "녹음된 파일을 재생합니다\n"
     ]
    }
   ],
   "source": [
    "#음성 데이터를 다루는 라이브러리인 portaudio를 파이썬에서 사용할 수 있도록 한 모듈. \n",
    "# 음성 데이터를 파일로 저장하거나, 파일로부터 음성데이터를 불러올 수 있음. \n",
    "# 파일 뿐만 아니라 실시간으로 음성데이터를 다루는 것도 가능\n",
    "import pyaudio \n",
    "import wave # wav 파일 인식\n",
    "from playsound import playsound\n",
    "\n",
    "# 녹음 파일의 형식 등을 설정\n",
    "CHUNK = 1024 # 음성데이터를 불러올 때 한번에 몇개의 정수를 불러올지, 1024개\n",
    "FORMAT = pyaudio.paInt16 # 비트 깊이\n",
    "CHANNELS = 1\n",
    "RATE = 44100 # 음성 데이터의 샘플링 레이트, 일반적인 샘플링 레이트인 44100hz를 선택\n",
    "RECORD_SECONDS = 5\n",
    "# 녹음파일의 위치 지정\n",
    "WAVE_OUTPUT_FILENAME = '음성인식 비서/output.wav'\n",
    "\n",
    "# 음성 데이터 스트림을 여는 코드\n",
    "p = pyaudio.PyAudio()\n",
    "stream = p.open(format=FORMAT,\n",
    "               channels=CHANNELS,\n",
    "               rate=RATE,\n",
    "               input=True, # 입력스트림이므로 true\n",
    "               frames_per_buffer=CHUNK)\n",
    "\n",
    "print(\"음성녹음을 시작합니다\")\n",
    "# 음성 녹음시작\n",
    "frames = []\n",
    "\n",
    "for i in range(0, int(RATE / CHUNK * RECORD_SECONDS)):\n",
    "    data = stream.read(CHUNK)\n",
    "    frames.append(data)\n",
    "\n",
    "print(\"음성녹음을 완료하였습니다\")\n",
    "\n",
    "# 녹음된 음성 저장\n",
    "stream.stop_stream()\n",
    "stream.close()\n",
    "p.terminate()\n",
    "\n",
    "wf = wave.open(WAVE_OUTPUT_FILENAME, 'wb')\n",
    "wf.setnchannels(CHANNELS)\n",
    "wf.setsampwidth(p.get_sample_size(FORMAT))\n",
    "wf.setframerate(RATE)\n",
    "wf.writeframes(b''.join(frames))\n",
    "wf.close()\n",
    "\n",
    "print(\"녹음된 파일을 재생합니다\")\n",
    "# 저장된 음성파일을 재생\n",
    "playsound(WAVE_OUTPUT_FILENAME)"
   ]
  },
  {
   "cell_type": "markdown",
   "id": "a85a9a32",
   "metadata": {},
   "source": [
    "### 2. 음성을 텍스트로 변환하는 코드\n",
    "- SpeechRecognition에서 구글 음성변환을 사용"
   ]
  },
  {
   "cell_type": "code",
   "execution_count": null,
   "id": "f470d737",
   "metadata": {},
   "outputs": [],
   "source": [
    "import speech_recognition as sr\n",
    "\n",
    "try:\n",
    "    while True:\n",
    "        r = sr.Recognizer() # 음성인식 객체 생성, recognizer 인스턴스는 다양한 api들을 이용해서 음성인식, \n",
    "        \n",
    "        # 마이크에서 음성인식\n",
    "        with sr.Microphone() as source:\n",
    "            print(\"음성을 입력하세요\")\n",
    "            audio = r.listen(source)\n",
    "            \n",
    "        # 한국어 음성을 인식하여 반환\n",
    "        try:\n",
    "            print(\"음성변환 : \" + r.recognize_google(audio, language='ko-KR')) # google web speech api\n",
    "        except sr.UnknownValueError:\n",
    "            print(\"오디오를 이해할 수 없습니다\")\n",
    "        except sr.RequestError as e:\n",
    "            print(f\"에러가 발생했습니다. 에러원인 : {e}\")\n",
    "            \n",
    "except KeyboardInterrupt:\n",
    "    pass"
   ]
  },
  {
   "cell_type": "markdown",
   "id": "1bbd5bb0",
   "metadata": {},
   "source": [
    "### 3. 특정 키워드에 답변하는 음성인식 비서 코드"
   ]
  },
  {
   "cell_type": "code",
   "execution_count": 4,
   "id": "02393d27",
   "metadata": {},
   "outputs": [
    {
     "name": "stdout",
     "output_type": "stream",
     "text": [
      "음성을 입력하세요\n",
      "답변 : 오늘 저녁 뭐 먹을 거냐고\n",
      "저녁으로 짜장면 어때요?\n",
      "음성을 입력하세요\n",
      "답변 : 나 심심한데\n",
      "저는 심심하지 않아요\n",
      "음성을 입력하세요\n",
      "답변 : 오늘 알람 좀 맞춰 줘\n",
      "몇 시에 알람을 맞춰드릴까요?\n",
      "음성을 입력하세요\n",
      "오디오를 이해할 수 없습니다\n",
      "음성을 입력하세요\n",
      "답변 : 안녕이라고 얘기해 봐\n",
      "네 안녕하세요\n",
      "음성을 입력하세요\n"
     ]
    }
   ],
   "source": [
    "import speech_recognition as sr\n",
    "try:\n",
    "    while True:\n",
    "        r = sr.Recognizer()   # 음성인식 객체 생성    \n",
    "        with sr.Microphone() as source:\n",
    "            print(\"음성을 입력하세요\")\n",
    "            audio = r.listen(source)\n",
    "        try:\n",
    "            stt = r.recognize_google(audio, language='ko-KR')  # 음성을 문자열로 변환\n",
    "            print(\"답변 : \" + stt)\n",
    "            if \"안녕\" in stt:\n",
    "                print(\"네 안녕하세요\")\n",
    "            elif \"저녁\" in stt:\n",
    "                print(\"저녁으로 짜장면 어때요?\")\n",
    "            elif \"알람\" in stt:\n",
    "                print(\"몇 시에 알람을 맞춰드릴까요?\")\n",
    "            elif \"노래\" in stt:\n",
    "                print(\"어떤 곡을 들려드릴까요?\")\n",
    "            elif \"심심\" in stt:\n",
    "                print(\"저는 심심하지 않아요\")              \n",
    "        except sr.UnknownValueError:\n",
    "            print(\"오디오를 이해할 수 없습니다\")\n",
    "        except sr.RequestError as e:\n",
    "            print(f\"에러가 발생했습니다. 에러원인{e}\")       \n",
    "except KeyboardInterrupt:\n",
    "    pass"
   ]
  },
  {
   "cell_type": "code",
   "execution_count": null,
   "id": "b1573583",
   "metadata": {},
   "outputs": [],
   "source": []
  }
 ],
 "metadata": {
  "kernelspec": {
   "display_name": "Python 3 (ipykernel)",
   "language": "python",
   "name": "python3"
  },
  "language_info": {
   "codemirror_mode": {
    "name": "ipython",
    "version": 3
   },
   "file_extension": ".py",
   "mimetype": "text/x-python",
   "name": "python",
   "nbconvert_exporter": "python",
   "pygments_lexer": "ipython3",
   "version": "3.9.13"
  },
  "vscode": {
   "interpreter": {
    "hash": "e7ba91d0f1d32becb70b3a8eeb32d78df3536e6d506a70117b7ba8ad36e5da0c"
   }
  }
 },
 "nbformat": 4,
 "nbformat_minor": 5
}
