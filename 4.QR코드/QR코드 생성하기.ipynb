{
 "cells": [
  {
   "cell_type": "markdown",
   "id": "ec8175a4",
   "metadata": {},
   "source": [
    "!pip install qrcode"
   ]
  },
  {
   "cell_type": "code",
   "execution_count": 1,
   "id": "bb506e1b",
   "metadata": {},
   "outputs": [],
   "source": [
    "import qrcode"
   ]
  },
  {
   "cell_type": "code",
   "execution_count": 2,
   "id": "08ee5356",
   "metadata": {},
   "outputs": [
    {
     "data": {
      "image/png": "[encoded data removed]",
      "text/plain": [
       "<qrcode.image.pil.PilImage at 0x1dd28ac8520>"
      ]
     },
     "execution_count": 2,
     "metadata": {},
     "output_type": "execute_result"
    }
   ],
   "source": [
    "qr_data= 'www.naver.com' # QR로 만들고자 하는 데이터(주소) \n",
    "qr_img= qrcode.make(qr_data)\n",
    "\n",
    "save_path= (r\"C:\\Users\\user\\Desktop\\QR코드\\\\\" + qr_data + \".png\")\n",
    "# 이 위치로 QR코드를 'png'파일형태로 생성하겠다.\n",
    "qr_img.save(save_path) # QR코드 생성.\n",
    "qr_img"
   ]
  },
  {
   "cell_type": "markdown",
   "id": "8bbaa21d",
   "metadata": {},
   "source": [
    "txt파일을 읽어 여러 개의 QR코드 생성.  "
   ]
  },
  {
   "cell_type": "code",
   "execution_count": 3,
   "id": "8997390e",
   "metadata": {},
   "outputs": [],
   "source": [
    "file_path= r\"C:\\Users\\user\\Desktop\\QR코드\\QR코드모음.txt\" # txt파일의 경로\n",
    "qr_list= []\n",
    "line= []\n",
    "with open(file_path, 'rt', encoding= 'utf8') as f:\n",
    "    # 지정한 경로의 txt파일의 text를 읽기 위해 'rt'= read text와 인코딩을 사용\n",
    "    read_lines= f.readlines()\n",
    "    \n",
    "    for i in read_lines:\n",
    "        a= i.strip()\n",
    "        line.append(a)\n",
    "        \n",
    "        qr_data= a\n",
    "        qr_img= qrcode.make(qr_data)\n",
    "        \n",
    "        save_path= (r\"C:\\Users\\user\\Desktop\\QR코드\\\\\" + qr_data + \".png\")\n",
    "        # 이 위치로 QR코드를 'png'파일형태로 생성하겠다.\n",
    "        qr_img.save(save_path) # QR코드 생성.\n",
    "        qr_list.append(qr_img)"
   ]
  },
  {
   "cell_type": "code",
   "execution_count": 4,
   "id": "e8a5e18c",
   "metadata": {},
   "outputs": [
    {
     "name": "stdout",
     "output_type": "stream",
     "text": [
      "www.github.com\n"
     ]
    },
    {
     "data": {
      "image/png": "[encoded data removed]",
      "text/plain": [
       "<qrcode.image.pil.PilImage at 0x1dd29cc8df0>"
      ]
     },
     "execution_count": 4,
     "metadata": {},
     "output_type": "execute_result"
    }
   ],
   "source": [
    "print(line[4])\n",
    "qr_list[4]"
   ]
  },
  {
   "cell_type": "code",
   "execution_count": null,
   "id": "1078fdc7",
   "metadata": {},
   "outputs": [],
   "source": []
  }
 ],
 "metadata": {
  "hide_input": false,
  "kernelspec": {
   "display_name": "Python 3 (ipykernel)",
   "language": "python",
   "name": "python3"
  },
  "language_info": {
   "codemirror_mode": {
    "name": "ipython",
    "version": 3
   },
   "file_extension": ".py",
   "mimetype": "text/x-python",
   "name": "python",
   "nbconvert_exporter": "python",
   "pygments_lexer": "ipython3",
   "version": "3.9.12"
  }
 },
 "nbformat": 4,
 "nbformat_minor": 5
}
